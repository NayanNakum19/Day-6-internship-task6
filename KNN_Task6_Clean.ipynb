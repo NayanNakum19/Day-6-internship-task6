{
 "cells": [
  {
   "cell_type": "markdown",
   "id": "676bcfda",
   "metadata": {},
   "source": [
    "# 🌸 K-Nearest Neighbors (KNN) Classification on Iris Dataset"
   ]
  },
  {
   "cell_type": "code",
   "execution_count": null,
   "id": "04810b92",
   "metadata": {},
   "outputs": [],
   "source": [
    "\n",
    "import pandas as pd\n",
    "import numpy as np\n",
    "import matplotlib.pyplot as plt\n",
    "from sklearn.model_selection import train_test_split\n",
    "from sklearn.preprocessing import StandardScaler, LabelEncoder\n",
    "from sklearn.neighbors import KNeighborsClassifier\n",
    "from sklearn.metrics import accuracy_score, classification_report, confusion_matrix\n",
    "from matplotlib.colors import ListedColormap\n"
   ]
  },
  {
   "cell_type": "code",
   "execution_count": null,
   "id": "83cfb913",
   "metadata": {},
   "outputs": [],
   "source": [
    "\n",
    "# Step 1: Load the dataset\n",
    "df = pd.read_csv(\"Iris.csv\")\n",
    "df.drop('Id', axis=1, inplace=True)\n",
    "print(df.head())\n",
    "\n",
    "# Step 2: Feature selection and target variable\n",
    "X = df.drop('Species', axis=1)\n",
    "y = df['Species']\n",
    "\n",
    "# Step 3: Train-test split\n",
    "X_train, X_test, y_train, y_test = train_test_split(X, y, test_size=0.3, random_state=42)\n",
    "\n",
    "# Step 4: Normalize features\n",
    "scaler = StandardScaler()\n",
    "X_train_scaled = scaler.fit_transform(X_train)\n",
    "X_test_scaled = scaler.transform(X_test)\n"
   ]
  },
  {
   "cell_type": "code",
   "execution_count": null,
   "id": "c86876f2",
   "metadata": {},
   "outputs": [],
   "source": [
    "\n",
    "# Step 5: Train the model with initial k=3\n",
    "knn = KNeighborsClassifier(n_neighbors=3)\n",
    "knn.fit(X_train_scaled, y_train)\n",
    "\n",
    "# Step 6: Predict and evaluate\n",
    "y_pred = knn.predict(X_test_scaled)\n",
    "\n",
    "print(\"\\n✅ Accuracy:\", accuracy_score(y_test, y_pred))\n",
    "print(\"\\n🧩 Confusion Matrix:\\n\", confusion_matrix(y_test, y_pred))\n",
    "print(\"\\n📊 Classification Report:\\n\", classification_report(y_test, y_pred))\n"
   ]
  },
  {
   "cell_type": "code",
   "execution_count": null,
   "id": "a17db58f",
   "metadata": {},
   "outputs": [],
   "source": [
    "\n",
    "# ✅ Experiment with Different K Values\n",
    "k_values = range(1, 21)\n",
    "accuracy_scores = []\n",
    "\n",
    "for k in k_values:\n",
    "    model = KNeighborsClassifier(n_neighbors=k)\n",
    "    model.fit(X_train_scaled, y_train)\n",
    "    pred = model.predict(X_test_scaled)\n",
    "    accuracy_scores.append(accuracy_score(y_test, pred))\n",
    "\n",
    "# Plot Accuracy vs. K\n",
    "plt.figure(figsize=(8, 5))\n",
    "plt.plot(k_values, accuracy_scores, marker='o', color='darkorange')\n",
    "plt.title('Accuracy vs. K Value')\n",
    "plt.xlabel('K')\n",
    "plt.ylabel('Accuracy')\n",
    "plt.grid(True)\n",
    "plt.show()\n"
   ]
  },
  {
   "cell_type": "code",
   "execution_count": null,
   "id": "9ac045d7",
   "metadata": {},
   "outputs": [],
   "source": [
    "\n",
    "# ✅ Visualize Decision Boundaries (Using 2 Features)\n",
    "X_vis = df[['PetalLengthCm', 'PetalWidthCm']].values\n",
    "y_vis = df['Species'].values\n",
    "\n",
    "le = LabelEncoder()\n",
    "y_vis_encoded = le.fit_transform(y_vis)\n",
    "\n",
    "X_train_vis, X_test_vis, y_train_vis, y_test_vis = train_test_split(X_vis, y_vis_encoded, test_size=0.3, random_state=42)\n",
    "X_train_vis = scaler.fit_transform(X_train_vis)\n",
    "X_test_vis = scaler.transform(X_test_vis)\n",
    "\n",
    "knn_vis = KNeighborsClassifier(n_neighbors=5)\n",
    "knn_vis.fit(X_train_vis, y_train_vis)\n"
   ]
  },
  {
   "cell_type": "code",
   "execution_count": null,
   "id": "aa17695c",
   "metadata": {},
   "outputs": [],
   "source": [
    "\n",
    "# Function to plot decision boundaries\n",
    "def plot_decision_boundaries(X, y, model, title):\n",
    "    h = 0.02\n",
    "    x_min, x_max = X[:, 0].min() - 1, X[:, 0].max() + 1\n",
    "    y_min, y_max = X[:, 1].min() - 1, X[:, 1].max() + 1\n",
    "\n",
    "    xx, yy = np.meshgrid(np.arange(x_min, x_max, h),\n",
    "                         np.arange(y_min, y_max, h))\n",
    "    Z = model.predict(np.c_[xx.ravel(), yy.ravel()])\n",
    "    Z = Z.reshape(xx.shape)\n",
    "\n",
    "    cmap_light = ListedColormap(['#FFAAAA', '#AAFFAA', '#AAAAFF'])\n",
    "    cmap_bold  = ListedColormap(['#FF0000', '#00FF00', '#0000FF'])\n",
    "\n",
    "    plt.figure(figsize=(8, 6))\n",
    "    plt.contourf(xx, yy, Z, cmap=cmap_light)\n",
    "    plt.scatter(X[:, 0], X[:, 1], c=y, cmap=cmap_bold, edgecolor='k', s=50)\n",
    "    plt.xlabel(\"Petal Length (scaled)\")\n",
    "    plt.ylabel(\"Petal Width (scaled)\")\n",
    "    plt.title(title)\n",
    "    plt.show()\n",
    "\n",
    "# Plot boundary using scaled test data\n",
    "plot_decision_boundaries(X_test_vis, y_test_vis, knn_vis, \"KNN Decision Boundary (K=5)\")\n"
   ]
  }
 ],
 "metadata": {},
 "nbformat": 4,
 "nbformat_minor": 5
}
